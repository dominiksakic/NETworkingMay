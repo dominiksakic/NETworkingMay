{
  "nbformat": 4,
  "nbformat_minor": 0,
  "metadata": {
    "colab": {
      "provenance": [],
      "authorship_tag": "ABX9TyPM3M9Y8EpAH+VwPiG9zrlt",
      "include_colab_link": true
    },
    "kernelspec": {
      "name": "python3",
      "display_name": "Python 3"
    },
    "language_info": {
      "name": "python"
    }
  },
  "cells": [
    {
      "cell_type": "markdown",
      "metadata": {
        "id": "view-in-github",
        "colab_type": "text"
      },
      "source": [
        "<a href=\"https://colab.research.google.com/github/dominiksakic/NETworkingMay/blob/main/18_simple_RNN.ipynb\" target=\"_parent\"><img src=\"https://colab.research.google.com/assets/colab-badge.svg\" alt=\"Open In Colab\"/></a>"
      ]
    },
    {
      "cell_type": "markdown",
      "source": [
        "- simple logic of an RNN is that is keeps track of what it has seen so far via a state.\n",
        "- The state between two different inputs is reset.\n",
        "- each data put is iterated over, rather than processed in a single step"
      ],
      "metadata": {
        "id": "t_cELX8QjoSW"
      }
    },
    {
      "cell_type": "code",
      "source": [
        "import numpy as np\n",
        "\n",
        "# Forward pass of an RNN\n",
        "\n",
        "# Input rank-2-tensor containing timesteps and input_features\n",
        "timesteps = 100\n",
        "input_features = 32\n",
        "output_features = 64\n",
        "inputs = np.random.random((timesteps, input_features))\n",
        "\n",
        "# initial state t\n",
        "state_t = np.zeros((output_features,))\n",
        "\n",
        "\n",
        "W = np.random.random((output_features, input_features))\n",
        "U = np.random.random((output_features, output_features))\n",
        "b = np.random.random((output_features,))\n",
        "\n",
        "print(\"Matrix W: \", W.shape)\n",
        "print(\"Matrix U: \", U.shape)\n",
        "print(\"Bias term: \", b.shape)\n",
        "\n",
        "successive_outputs = []\n",
        "\n",
        "# loop over the timesteps, each step it considers current state t and the input at t\n",
        "for input_t in inputs:\n",
        "  output_t = np.tanh(np.dot(W, input_t) + np.dot(U, state_t) + b)\n",
        "  successive_outputs.append(output_t)\n",
        "  # State for next step will be the previous output, except for the first step\n",
        "  state_t = output_t\n",
        "final_output_sequence  = np.stack(successive_outputs, axis=0)\n",
        "print(\"Final output \", final_output_sequence.shape)\n"
      ],
      "metadata": {
        "colab": {
          "base_uri": "https://localhost:8080/"
        },
        "id": "44RZWXrkjlW0",
        "outputId": "f6d1dea5-efe6-4670-a95b-36c137ab5778"
      },
      "execution_count": null,
      "outputs": [
        {
          "output_type": "stream",
          "name": "stdout",
          "text": [
            "Matrix W:  (64, 32)\n",
            "Matrix U:  (64, 64)\n",
            "Bias term:  (64,)\n",
            "Final output  (100, 64)\n"
          ]
        }
      ]
    },
    {
      "cell_type": "code",
      "source": [
        "from tensorflow import keras\n",
        "from tensorflow.keras import layers\n",
        "\n",
        "# Simple RNN\n",
        "num_features = 14\n",
        "steps = 120\n",
        "\n",
        "# None makes the network to process an arbitary amount of timesteps\n",
        "inputs = keras.Input(shape=(None, num_features))\n",
        "outputs = layers.SimpleRNN(16)(inputs)\n",
        "print(outputs.shape)\n",
        "\n",
        "# only return last ouput step\n",
        "inputs = keras.Input(shape=(steps, num_features))\n",
        "outputs = layers.SimpleRNN(16)(inputs)\n",
        "print(\"Return last output step: \", outputs.shape)\n",
        "\n",
        "inputs = keras.Input(shape=(steps, num_features))\n",
        "outputs = layers.SimpleRNN(16, return_sequences=True)(inputs)\n",
        "print(\"Return full output sequence\", outputs.shape)"
      ],
      "metadata": {
        "colab": {
          "base_uri": "https://localhost:8080/"
        },
        "id": "U79gxgFkoxp_",
        "outputId": "6921d194-1f51-48a4-e4cb-b8bb9b4a6ead"
      },
      "execution_count": null,
      "outputs": [
        {
          "output_type": "stream",
          "name": "stdout",
          "text": [
            "(None, 16)\n",
            "Return last output step:  (None, 16)\n",
            "Return full output sequence (None, 120, 16)\n"
          ]
        }
      ]
    },
    {
      "cell_type": "markdown",
      "source": [
        "- A simple RNN is not enough, due to the vanishing Gradient problem: due to the  trade-off between efficient learning by gradient descent and latching on information for long periods.\n",
        "\n",
        "- lets introduce a carry:\n",
        "  - input connection. recurrent connection (dense transform, bias and activation) -> will be sent to next state\n",
        "\n",
        "\n",
        "-  output_t = activatoin(dot(state_t, Uo) + dot(input_t, Wo) + dot(c_t, Vo) + bo)\n",
        "\n",
        "- c_t+1 = i_t * k_t + c_t * f_t\n",
        "\n",
        "(curr_output, previous_carry, and curr_input)\n",
        "- i_t = activation(dot(state, Ui) + dot(input, Wi) + bi)\n",
        "\n",
        "- f_t = activation(dot(state_t, Uf) + dot(input_t, Wf) + bf)\n",
        "\n",
        "- k_t = activation(dot(state_t, Uk) + dot(input_t, Wk) + bk)\n",
        "\n",
        "-  This creates a new hypothesis space, what it actual does is learned from end-to-end"
      ],
      "metadata": {
        "id": "fEadRMlPjRbe"
      }
    }
  ]
}